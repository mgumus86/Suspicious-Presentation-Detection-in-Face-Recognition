{
  "nbformat": 4,
  "nbformat_minor": 0,
  "metadata": {
    "colab": {
      "name": "CNN.ipynb",
      "provenance": [],
      "collapsed_sections": []
    },
    "kernelspec": {
      "name": "python3",
      "display_name": "Python 3"
    }
  },
  "cells": [
    {
      "cell_type": "markdown",
      "metadata": {
        "id": "3e6p1NKtqCYU",
        "colab_type": "text"
      },
      "source": [
        "# Presentation Attack Detection with Convolutional Neural Network\n",
        "\n",
        "In this notebook, the convolutional neural network is performed to capture the presentation attacks. "
      ]
    },
    {
      "cell_type": "markdown",
      "metadata": {
        "id": "MVWzPQ4_sgPR",
        "colab_type": "text"
      },
      "source": [
        "## Install and Import Required Packages"
      ]
    },
    {
      "cell_type": "code",
      "metadata": {
        "id": "a_WmVTIWeKy-",
        "colab_type": "code",
        "colab": {
          "base_uri": "https://localhost:8080/",
          "height": 632
        },
        "outputId": "ecc4ac2f-d08a-48f2-a15f-482676de7406"
      },
      "source": [
        "!pip install -r requirements.txt\n",
        "!pip install pybase64"
      ],
      "execution_count": 2,
      "outputs": [
        {
          "output_type": "stream",
          "text": [
            "Requirement already satisfied: gcsfs in /usr/local/lib/python3.6/dist-packages (from -r requirements.txt (line 1)) (0.6.2)\n",
            "Requirement already satisfied: google in /usr/local/lib/python3.6/dist-packages (from -r requirements.txt (line 2)) (2.0.3)\n",
            "Requirement already satisfied: google-api-core in /usr/local/lib/python3.6/dist-packages (from -r requirements.txt (line 3)) (1.16.0)\n",
            "Requirement already satisfied: google-auth in /usr/local/lib/python3.6/dist-packages (from -r requirements.txt (line 4)) (1.17.2)\n",
            "Requirement already satisfied: google-auth-oauthlib in /usr/local/lib/python3.6/dist-packages (from -r requirements.txt (line 5)) (0.4.1)\n",
            "Requirement already satisfied: google-cloud in /usr/local/lib/python3.6/dist-packages (from -r requirements.txt (line 6)) (0.34.0)\n",
            "Requirement already satisfied: google-cloud-bigquery in /usr/local/lib/python3.6/dist-packages (from -r requirements.txt (line 7)) (1.21.0)\n",
            "Requirement already satisfied: google-cloud-core in /usr/local/lib/python3.6/dist-packages (from -r requirements.txt (line 8)) (1.0.3)\n",
            "Requirement already satisfied: google-resumable-media in /usr/local/lib/python3.6/dist-packages (from -r requirements.txt (line 9)) (0.4.1)\n",
            "Requirement already satisfied: googleapis-common-protos in /usr/local/lib/python3.6/dist-packages (from -r requirements.txt (line 10)) (1.52.0)\n",
            "Requirement already satisfied: matplotlib in /usr/local/lib/python3.6/dist-packages (from -r requirements.txt (line 11)) (3.2.2)\n",
            "Requirement already satisfied: decorator in /usr/local/lib/python3.6/dist-packages (from gcsfs->-r requirements.txt (line 1)) (4.4.2)\n",
            "Requirement already satisfied: fsspec>=0.6.0 in /usr/local/lib/python3.6/dist-packages (from gcsfs->-r requirements.txt (line 1)) (0.7.4)\n",
            "Requirement already satisfied: requests in /usr/local/lib/python3.6/dist-packages (from gcsfs->-r requirements.txt (line 1)) (2.23.0)\n",
            "Requirement already satisfied: beautifulsoup4 in /usr/local/lib/python3.6/dist-packages (from google->-r requirements.txt (line 2)) (4.6.3)\n",
            "Requirement already satisfied: protobuf>=3.4.0 in /usr/local/lib/python3.6/dist-packages (from google-api-core->-r requirements.txt (line 3)) (3.10.0)\n",
            "Requirement already satisfied: six>=1.10.0 in /usr/local/lib/python3.6/dist-packages (from google-api-core->-r requirements.txt (line 3)) (1.12.0)\n",
            "Requirement already satisfied: pytz in /usr/local/lib/python3.6/dist-packages (from google-api-core->-r requirements.txt (line 3)) (2018.9)\n",
            "Requirement already satisfied: setuptools>=34.0.0 in /usr/local/lib/python3.6/dist-packages (from google-api-core->-r requirements.txt (line 3)) (47.3.1)\n",
            "Requirement already satisfied: rsa<5,>=3.1.4; python_version >= \"3\" in /usr/local/lib/python3.6/dist-packages (from google-auth->-r requirements.txt (line 4)) (4.6)\n",
            "Requirement already satisfied: pyasn1-modules>=0.2.1 in /usr/local/lib/python3.6/dist-packages (from google-auth->-r requirements.txt (line 4)) (0.2.8)\n",
            "Requirement already satisfied: cachetools<5.0,>=2.0.0 in /usr/local/lib/python3.6/dist-packages (from google-auth->-r requirements.txt (line 4)) (4.1.0)\n",
            "Requirement already satisfied: requests-oauthlib>=0.7.0 in /usr/local/lib/python3.6/dist-packages (from google-auth-oauthlib->-r requirements.txt (line 5)) (1.3.0)\n",
            "Requirement already satisfied: cycler>=0.10 in /usr/local/lib/python3.6/dist-packages (from matplotlib->-r requirements.txt (line 11)) (0.10.0)\n",
            "Requirement already satisfied: numpy>=1.11 in /usr/local/lib/python3.6/dist-packages (from matplotlib->-r requirements.txt (line 11)) (1.18.5)\n",
            "Requirement already satisfied: python-dateutil>=2.1 in /usr/local/lib/python3.6/dist-packages (from matplotlib->-r requirements.txt (line 11)) (2.8.1)\n",
            "Requirement already satisfied: kiwisolver>=1.0.1 in /usr/local/lib/python3.6/dist-packages (from matplotlib->-r requirements.txt (line 11)) (1.2.0)\n",
            "Requirement already satisfied: pyparsing!=2.0.4,!=2.1.2,!=2.1.6,>=2.0.1 in /usr/local/lib/python3.6/dist-packages (from matplotlib->-r requirements.txt (line 11)) (2.4.7)\n",
            "Requirement already satisfied: urllib3!=1.25.0,!=1.25.1,<1.26,>=1.21.1 in /usr/local/lib/python3.6/dist-packages (from requests->gcsfs->-r requirements.txt (line 1)) (1.24.3)\n",
            "Requirement already satisfied: certifi>=2017.4.17 in /usr/local/lib/python3.6/dist-packages (from requests->gcsfs->-r requirements.txt (line 1)) (2020.6.20)\n",
            "Requirement already satisfied: idna<3,>=2.5 in /usr/local/lib/python3.6/dist-packages (from requests->gcsfs->-r requirements.txt (line 1)) (2.9)\n",
            "Requirement already satisfied: chardet<4,>=3.0.2 in /usr/local/lib/python3.6/dist-packages (from requests->gcsfs->-r requirements.txt (line 1)) (3.0.4)\n",
            "Requirement already satisfied: pyasn1>=0.1.3 in /usr/local/lib/python3.6/dist-packages (from rsa<5,>=3.1.4; python_version >= \"3\"->google-auth->-r requirements.txt (line 4)) (0.4.8)\n",
            "Requirement already satisfied: oauthlib>=3.0.0 in /usr/local/lib/python3.6/dist-packages (from requests-oauthlib>=0.7.0->google-auth-oauthlib->-r requirements.txt (line 5)) (3.1.0)\n",
            "Requirement already satisfied: pybase64 in /usr/local/lib/python3.6/dist-packages (1.0.1)\n"
          ],
          "name": "stdout"
        }
      ]
    },
    {
      "cell_type": "code",
      "metadata": {
        "id": "i0rByNggevee",
        "colab_type": "code",
        "colab": {}
      },
      "source": [
        "from google.oauth2 import service_account\n",
        "import gcsfs\n",
        "from PIL import Image\n",
        "import io\n",
        "import matplotlib.pyplot as plt\n",
        "from IPython import display\n",
        "import base64\n",
        "from base64 import b64decode\n",
        "import numpy as np\n",
        "from sklearn.model_selection import train_test_split\n",
        "import tensorflow as tf\n",
        "from tensorflow.keras.models import Sequential\n",
        "from tensorflow.keras.layers import Dense, Conv2D, Flatten, Dropout, MaxPooling2D\n",
        "from tensorflow.keras.preprocessing.image import ImageDataGenerator\n",
        "from tensorflow import keras "
      ],
      "execution_count": 3,
      "outputs": []
    },
    {
      "cell_type": "markdown",
      "metadata": {
        "id": "xh0fVoQ_syuj",
        "colab_type": "text"
      },
      "source": [
        "## Pull Images from Cloud"
      ]
    },
    {
      "cell_type": "code",
      "metadata": {
        "id": "pf6jBZf9fB-x",
        "colab_type": "code",
        "colab": {}
      },
      "source": [
        "def stringToRGB(base64_string):\n",
        "    imgdata = base64.b64decode(base64_string)\n",
        "    image = Image.open(io.BytesIO(imgdata))\n",
        "    return np.array(image)\n",
        "\n",
        "key_path = \"cda-gatech-0f0f7b5092d0.json\"\n",
        "credentials = service_account.Credentials.from_service_account_file(\n",
        "    key_path,\n",
        "    scopes=[\"https://www.googleapis.com/auth/cloud-platform\"],\n",
        ")\n",
        "\n",
        "fs = gcsfs.GCSFileSystem(project='CDA-GATECH', token=credentials)"
      ],
      "execution_count": 4,
      "outputs": []
    },
    {
      "cell_type": "code",
      "metadata": {
        "id": "ozSmgSUZ5qyV",
        "colab_type": "code",
        "colab": {}
      },
      "source": [
        "images = []\n",
        "labels = []\n",
        "for v in fs.ls('cda-project/images/test/p')[1:]:\n",
        "    if '/.' not in v:\n",
        "        with fs.open(v) as f:\n",
        "            b64 = base64.b64encode(f.read())\n",
        "            img = stringToRGB(b64)\n",
        "            if img.shape[0] == img.shape[1] == 100:\n",
        "              images.append(img)\n",
        "              labels.append(1)\n",
        "for v in fs.ls('cda-project/images/test/n')[1:]:\n",
        "    if '/.' not in v:\n",
        "        with fs.open(v) as f:\n",
        "            b64 = base64.b64encode(f.read())\n",
        "            img = stringToRGB(b64)\n",
        "            if img.shape[0] == img.shape[1] == 100:\n",
        "              images.append(img)\n",
        "              labels.append(0)\n",
        "images = np.asarray(images)\n",
        "labels = np.asarray(labels)\n",
        "np.save('training_images.npy', images)\n",
        "np.save('training_labels.npy', labels)"
      ],
      "execution_count": null,
      "outputs": []
    },
    {
      "cell_type": "code",
      "metadata": {
        "id": "gBwkc7Y6MGhO",
        "colab_type": "code",
        "colab": {}
      },
      "source": [
        "images = np.load('training_images.npy') # First 1323 images are not presentation attack\n",
        "labels = np.load('training_labels.npy') # The remaining images are presentation attack"
      ],
      "execution_count": 5,
      "outputs": []
    },
    {
      "cell_type": "markdown",
      "metadata": {
        "id": "VKx9G454s6EA",
        "colab_type": "text"
      },
      "source": [
        "## Split the Data into Train and Test, and Rescale the Images"
      ]
    },
    {
      "cell_type": "code",
      "metadata": {
        "id": "Z48O4d0nW5DN",
        "colab_type": "code",
        "colab": {}
      },
      "source": [
        "def train_test_data(image, label, non_attack = 1323):\n",
        "  labels_pos = label[:non_attack]\n",
        "  labels_neg = label[non_attack:]\n",
        "  images_pos = image[:non_attack]\n",
        "  images_neg = image[non_attack:]\n",
        "\n",
        "  # Percentages of attack and non-attack images are same in train  and test sets \n",
        "  X_train_pos, X_test_pos, y_train_pos, y_test_pos = train_test_split(images_pos, labels_pos, test_size=0.2, random_state=32)\n",
        "  X_train_neg, X_test_neg, y_train_neg, y_test_neg = train_test_split(images_neg, labels_neg, test_size=0.2, random_state=32)\n",
        "\n",
        "  X_train = np.concatenate((X_train_pos, X_train_neg), axis=0)\n",
        "  X_test =  np.concatenate((X_test_pos, X_test_neg), axis=0)\n",
        "  y_train = np.concatenate((y_train_pos, y_train_neg), axis=0)\n",
        "  y_test =  np.concatenate((y_test_pos, y_test_neg), axis=0)\n",
        "\n",
        "  # Rescale the images from values between 0 and 255 to values between 0 and 1\n",
        "  X_train = X_train/255.0\n",
        "  X_test = X_test/255.0\n",
        "\n",
        "  return X_train, y_train, X_test, y_test"
      ],
      "execution_count": 6,
      "outputs": []
    },
    {
      "cell_type": "markdown",
      "metadata": {
        "id": "g_Ciu-7ytgcj",
        "colab_type": "text"
      },
      "source": [
        "## Create the Model"
      ]
    },
    {
      "cell_type": "code",
      "metadata": {
        "colab_type": "code",
        "id": "e-a-bhRaZ4Eb",
        "colab": {}
      },
      "source": [
        "def keras_model(batch_size, epochs, img_height = 100, img_width = 100):\n",
        "\n",
        "  # call train_test_data()\n",
        "  X_train, y_train, X_test, y_test = train_test_data(images, labels)\n",
        "\n",
        "  model = Sequential([\n",
        "    Conv2D(16, (3,3), padding='same', activation='relu', input_shape=(img_height, img_width ,3)),\n",
        "    MaxPooling2D((2,2)),\n",
        "    Dropout(0.2),\n",
        "    Conv2D(32, (3,3), padding='same', activation='relu'),\n",
        "    MaxPooling2D((2,2)),\n",
        "    Conv2D(64, (3,3), padding='same', activation='relu'),\n",
        "    MaxPooling2D((2,2)),\n",
        "    Dropout(0.2),\n",
        "    Flatten(),\n",
        "    Dense(512, activation='relu'),\n",
        "    Dense(1)\n",
        "  ])\n",
        "\n",
        "  model.compile(optimizer='adam',\n",
        "              loss=tf.keras.losses.BinaryCrossentropy(from_logits=True),\n",
        "              metrics=['accuracy'])\n",
        "  \n",
        "  # Augmentation --- Augment the training data to generate more images by using random transformations\n",
        "  # This method will overcome the problem of overfitting due to insufficient number of training data\n",
        "  datagen = ImageDataGenerator(rotation_range=45, \n",
        "                               width_shift_range=0.15,\n",
        "\t                             height_shift_range=0.15,\n",
        "                               zoom_range=0.5,\n",
        "\t                             horizontal_flip=True) \n",
        "  \n",
        "  training_generator = datagen.flow(X_train, y_train, batch_size = batch_size)\n",
        "\n",
        "  H = model.fit(training_generator,\n",
        "                steps_per_epoch=(len(X_train)*0.8)// batch_size, \n",
        "                epochs = epochs, \n",
        "                validation_data = (X_test, y_test), \n",
        "                verbose = 1)  \n",
        "  \n",
        "  score = model.evaluate(X_test, y_test, verbose=0)\n",
        "\n",
        "  return H, score[1] * 100"
      ],
      "execution_count": 7,
      "outputs": []
    },
    {
      "cell_type": "code",
      "metadata": {
        "id": "O2GuifmGZ3w1",
        "colab_type": "code",
        "colab": {
          "base_uri": "https://localhost:8080/",
          "height": 377
        },
        "outputId": "7d1f194a-4f64-4a56-a0b1-61df414aea93"
      },
      "source": [
        "history, test_acc = keras_model(256, 10)"
      ],
      "execution_count": 8,
      "outputs": [
        {
          "output_type": "stream",
          "text": [
            "Epoch 1/10\n",
            "43/43 [==============================] - 126s 3s/step - loss: 0.2654 - accuracy: 0.9235 - val_loss: 0.1749 - val_accuracy: 0.9237\n",
            "Epoch 2/10\n",
            "43/43 [==============================] - 125s 3s/step - loss: 0.1736 - accuracy: 0.9232 - val_loss: 0.1594 - val_accuracy: 0.9237\n",
            "Epoch 3/10\n",
            "43/43 [==============================] - 126s 3s/step - loss: 0.1377 - accuracy: 0.9334 - val_loss: 0.1763 - val_accuracy: 0.9295\n",
            "Epoch 4/10\n",
            "43/43 [==============================] - 126s 3s/step - loss: 0.1064 - accuracy: 0.9586 - val_loss: 0.1957 - val_accuracy: 0.9375\n",
            "Epoch 5/10\n",
            "43/43 [==============================] - 132s 3s/step - loss: 0.0875 - accuracy: 0.9666 - val_loss: 0.1068 - val_accuracy: 0.9528\n",
            "Epoch 6/10\n",
            "43/43 [==============================] - 129s 3s/step - loss: 0.0801 - accuracy: 0.9690 - val_loss: 0.0677 - val_accuracy: 0.9600\n",
            "Epoch 7/10\n",
            "43/43 [==============================] - 129s 3s/step - loss: 0.0619 - accuracy: 0.9740 - val_loss: 0.0918 - val_accuracy: 0.9545\n",
            "Epoch 8/10\n",
            "43/43 [==============================] - 126s 3s/step - loss: 0.0656 - accuracy: 0.9756 - val_loss: 0.1181 - val_accuracy: 0.9516\n",
            "Epoch 9/10\n",
            "43/43 [==============================] - 127s 3s/step - loss: 0.0514 - accuracy: 0.9790 - val_loss: 0.0708 - val_accuracy: 0.9608\n",
            "Epoch 10/10\n",
            "43/43 [==============================] - 126s 3s/step - loss: 0.0455 - accuracy: 0.9819 - val_loss: 0.0691 - val_accuracy: 0.9562\n"
          ],
          "name": "stdout"
        }
      ]
    },
    {
      "cell_type": "code",
      "metadata": {
        "id": "qmKeDlxvpaje",
        "colab_type": "code",
        "colab": {
          "base_uri": "https://localhost:8080/",
          "height": 34
        },
        "outputId": "4644a866-a9a4-4b76-fed9-b93d05805f5c"
      },
      "source": [
        "print('Test accuracy: {:0.2f}%'.format(test_acc))"
      ],
      "execution_count": 9,
      "outputs": [
        {
          "output_type": "stream",
          "text": [
            "Test accuracy: 95.62%\n"
          ],
          "name": "stdout"
        }
      ]
    },
    {
      "cell_type": "code",
      "metadata": {
        "id": "u1Ua578PobIG",
        "colab_type": "code",
        "colab": {
          "base_uri": "https://localhost:8080/",
          "height": 499
        },
        "outputId": "4b819015-1e0a-4581-c71d-919e2070d779"
      },
      "source": [
        "acc = history.history['accuracy']\n",
        "val_acc = history.history['val_accuracy']\n",
        "\n",
        "loss=history.history['loss']\n",
        "val_loss=history.history['val_loss']\n",
        "\n",
        "epochs_range = range(10)\n",
        "\n",
        "plt.figure(figsize=(8, 8))\n",
        "plt.subplot(1, 2, 1)\n",
        "plt.plot(epochs_range, acc, label='Training Accuracy')\n",
        "plt.plot(epochs_range, val_acc, label='Validation Accuracy')\n",
        "plt.legend(loc='lower right')\n",
        "plt.title('Training and Validation Accuracy')\n",
        "\n",
        "plt.subplot(1, 2, 2)\n",
        "plt.plot(epochs_range, loss, label='Training Loss')\n",
        "plt.plot(epochs_range, val_loss, label='Validation Loss')\n",
        "plt.legend(loc='upper right')\n",
        "plt.title('Training and Validation Loss')\n",
        "plt.show()"
      ],
      "execution_count": 10,
      "outputs": [
        {
          "output_type": "display_data",
          "data": {
            "image/png": "[encoded data removed]",
            "text/plain": [
              "<Figure size 576x576 with 2 Axes>"
            ]
          },
          "metadata": {
            "tags": [],
            "needs_background": "light"
          }
        }
      ]
    }
  ]
}